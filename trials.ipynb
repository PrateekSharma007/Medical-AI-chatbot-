{
 "cells": [
  {
   "cell_type": "code",
   "execution_count": 41,
   "metadata": {},
   "outputs": [
    {
     "name": "stdout",
     "output_type": "stream",
     "text": [
      "OK!\n"
     ]
    }
   ],
   "source": [
    "print(\"OK!\")"
   ]
  },
  {
   "cell_type": "code",
   "execution_count": 42,
   "metadata": {},
   "outputs": [],
   "source": [
    "from langchain import PromptTemplate \n",
    "from langchain.chains import RetrievalQA \n",
    "from langchain.embeddings import HuggingFaceEmbeddings\n",
    "from langchain.vectorstores import Pinecone\n",
    "import pinecone\n",
    "from langchain.document_loaders import PyPDFLoader,DirectoryLoader\n",
    "from langchain.text_splitter import RecursiveCharacterTextSplitter\n",
    "from langchain.prompts import PromptTemplate"
   ]
  },
  {
   "cell_type": "code",
   "execution_count": 43,
   "metadata": {},
   "outputs": [],
   "source": [
    "PINECONE_API_KEY = \"7eeff629-f281-4e06-a11b-eae034db2e00\"\n",
    "PINECONE_API_ENV = \"gcp-starter\""
   ]
  },
  {
   "cell_type": "code",
   "execution_count": 44,
   "metadata": {},
   "outputs": [],
   "source": [
    "#EXTRACT DATA FROM THE PDF \n",
    "def load_pdf(data): \n",
    "    loader = DirectoryLoader(data,\n",
    "                    glob=\"*.pdf\",\n",
    "                    loader_cls=PyPDFLoader)\n",
    "    \n",
    "    documents = loader.load() \n",
    "\n",
    "    return documents\n",
    "# import PyPDF2\n",
    "# def load_pdf(data):\n",
    "#     with open(data, 'rb') as f:\n",
    "#         pdf_reader = PyPDF2.PdfFileReader(f)\n",
    "#         text = ''\n",
    "#         for page in pdf_reader.pages:\n",
    "#             text += page.extractText()\n",
    "#     return text\n"
   ]
  },
  {
   "cell_type": "code",
   "execution_count": 45,
   "metadata": {},
   "outputs": [],
   "source": [
    "extracted_data = load_pdf(\"data/\")"
   ]
  },
  {
   "cell_type": "code",
   "execution_count": 46,
   "metadata": {},
   "outputs": [],
   "source": [
    "def text_splitter(extracted_data): \n",
    "    text_splitter = RecursiveCharacterTextSplitter(chunk_size = 500,chunk_overlap=20) \n",
    "    text_chunks = text_splitter.split_documents(extracted_data)\n",
    "    return text_chunks"
   ]
  },
  {
   "cell_type": "code",
   "execution_count": 47,
   "metadata": {},
   "outputs": [
    {
     "name": "stdout",
     "output_type": "stream",
     "text": [
      "page_content='TheGALE\\nENCYCLOPEDIA\\nofMEDICINE\\nSECOND EDITION' metadata={'source': 'data\\\\Medical_book.pdf', 'page': 1}\n",
      "7020\n"
     ]
    }
   ],
   "source": [
    "text_chunk = text_splitter(extracted_data) \n",
    "print(text_chunk[0])\n",
    "print(len(text_chunk))"
   ]
  },
  {
   "cell_type": "code",
   "execution_count": 48,
   "metadata": {},
   "outputs": [],
   "source": [
    "def download_hugging_face_embedding():\n",
    "    embeddings = HuggingFaceEmbeddings(model_name=\"sentence-transformers/all-MiniLM-L6-v2\") \n",
    "    return embeddings\n"
   ]
  },
  {
   "cell_type": "code",
   "execution_count": 49,
   "metadata": {},
   "outputs": [],
   "source": [
    "embeddings = download_hugging_face_embedding()"
   ]
  },
  {
   "cell_type": "code",
   "execution_count": 50,
   "metadata": {},
   "outputs": [
    {
     "data": {
      "text/plain": [
       "HuggingFaceEmbeddings(client=SentenceTransformer(\n",
       "  (0): Transformer({'max_seq_length': 256, 'do_lower_case': False}) with Transformer model: BertModel \n",
       "  (1): Pooling({'word_embedding_dimension': 384, 'pooling_mode_cls_token': False, 'pooling_mode_mean_tokens': True, 'pooling_mode_max_tokens': False, 'pooling_mode_mean_sqrt_len_tokens': False})\n",
       "  (2): Normalize()\n",
       "), model_name='sentence-transformers/all-MiniLM-L6-v2', cache_folder=None, model_kwargs={}, encode_kwargs={}, multi_process=False, show_progress=False)"
      ]
     },
     "execution_count": 50,
     "metadata": {},
     "output_type": "execute_result"
    }
   ],
   "source": [
    "embeddings"
   ]
  },
  {
   "cell_type": "code",
   "execution_count": 51,
   "metadata": {},
   "outputs": [
    {
     "name": "stdout",
     "output_type": "stream",
     "text": [
      "384\n",
      "[-0.034477267414331436, 0.031023206189274788, 0.006734929047524929, 0.026108982041478157, -0.03936203196644783, -0.16030243039131165, 0.06692398339509964, -0.006441489793360233, -0.04745049402117729, 0.014758839271962643, 0.07087527960538864, 0.05552763119339943, 0.01919335499405861, -0.026251323521137238, -0.010109569877386093, -0.02694045566022396, 0.022307392209768295, -0.02222662791609764, -0.14969263970851898, -0.017493031919002533, 0.007676294539123774, 0.054352253675460815, 0.0032544503919780254, 0.031725917011499405, -0.08462144434452057, -0.029405998066067696, 0.051595620810985565, 0.048124048858881, -0.00331486901268363, -0.058279212564229965, 0.041969265788793564, 0.022210726514458656, 0.12818878889083862, -0.02233896590769291, -0.011656217277050018, 0.06292834132909775, -0.032876402139663696, -0.09122605621814728, -0.03117532841861248, 0.05269954353570938, 0.047034818679094315, -0.08420311659574509, -0.030056139454245567, -0.020744847133755684, 0.00951785035431385, -0.0037217815406620502, 0.007343289442360401, 0.039324335753917694, 0.09327401965856552, -0.0037885704077780247, -0.05274210125207901, -0.05805816128849983, -0.0068643661215901375, 0.005283265374600887, 0.08289296180009842, 0.019362766295671463, 0.006284523755311966, -0.010330776683986187, 0.009032350033521652, -0.03768376260995865, -0.04520610347390175, 0.024016328155994415, -0.006944178603589535, 0.013491666875779629, 0.10005496442317963, -0.07168389856815338, -0.0216950885951519, 0.0316183976829052, -0.051634643226861954, -0.08224772661924362, -0.06569328159093857, -0.009895360097289085, 0.005816400051116943, 0.07355451583862305, -0.034050293266773224, 0.024886099621653557, 0.014488058164715767, 0.02645733207464218, 0.009656756184995174, 0.030217278748750687, 0.05280396714806557, -0.07535987347364426, 0.009897195734083652, 0.02983679249882698, 0.01755557581782341, 0.023091968148946762, 0.001933887368068099, 0.0014001816743984818, -0.04717600718140602, -0.011194308288395405, -0.11420147120952606, -0.019811974838376045, 0.040266212075948715, 0.002192983403801918, -0.07979220151901245, -0.025382336229085922, 0.09448299556970596, -0.028981046751141548, -0.145002543926239, 0.23097741603851318, 0.02773120254278183, 0.03211143612861633, 0.031065043061971664, 0.0428328700363636, 0.06423782557249069, 0.03216315805912018, -0.004876766353845596, 0.0556994192302227, -0.03753232955932617, -0.021505534648895264, -0.028342677280306816, -0.028846904635429382, 0.038353074342012405, -0.01746865175664425, 0.052485328167676926, -0.07487606257200241, -0.031259745359420776, 0.021841589361429214, -0.03989570587873459, -0.008587072603404522, 0.02695656754076481, -0.04849553853273392, 0.01146987359970808, 0.02961820736527443, -0.020572206005454063, 0.013103843666613102, 0.02883346751332283, -3.194198717480234e-33, 0.06478208303451538, -0.018130162730813026, 0.05178993567824364, 0.12198273092508316, 0.02878018654882908, 0.008721956983208656, -0.07052122056484222, -0.01690729148685932, 0.04073967784643173, 0.04211616888642311, 0.025447174906730652, 0.0357462540268898, -0.04914470762014389, 0.0021290022414177656, -0.015546590089797974, 0.05073055997490883, -0.0481853112578392, 0.03588065132498741, -0.0040669748559594154, 0.10172472149133682, -0.05597000569105148, -0.010681062936782837, 0.01123578567057848, 0.09068655967712402, 0.004234429448843002, 0.035138651728630066, -0.00970285665243864, -0.09386516362428665, 0.0928555503487587, 0.008004932664334774, -0.007705426309257746, -0.05208666995167732, -0.01258796639740467, 0.0032669196370989084, 0.006013510283082724, 0.007581599522382021, 0.010517144575715065, -0.08634555339813232, -0.06987880915403366, -0.002533914986997843, -0.09097655117511749, 0.04688732698559761, 0.0520765483379364, 0.007193876430392265, 0.010903693735599518, -0.005229538306593895, 0.01393736433237791, 0.021968355402350426, 0.03420860692858696, 0.060224711894989014, 0.00011668332444969565, 0.014731977134943008, -0.07008923590183258, 0.028499027714133263, -0.027601705864071846, 0.01076838281005621, 0.03483099117875099, -0.022487888112664223, 0.009769042022526264, 0.07722783833742142, 0.021588364616036415, 0.11495617032051086, -0.0680011734366417, 0.023760948330163956, -0.015983937308192253, -0.01782693713903427, 0.06439489126205444, 0.032025717198848724, 0.05027022212743759, -0.005913727451115847, -0.03370805084705353, 0.017840318381786346, 0.016573376953601837, 0.0632965937256813, 0.03467715159058571, 0.046473462134599686, 0.09790615737438202, -0.006635511759668589, 0.025207115337252617, -0.07798829674720764, 0.01692643202841282, -0.0009457895648665726, 0.022471901029348373, -0.038253217935562134, 0.09570480138063431, -0.005350861698389053, 0.01046909298747778, -0.11524059623479843, -0.013262546621263027, -0.01070947851985693, -0.08311733603477478, 0.07327356934547424, 0.0493922233581543, -0.008994347415864468, -0.09584552049636841, 3.36614782706661e-33, 0.12493177503347397, 0.019349701702594757, -0.05822572857141495, -0.03598823398351669, -0.05074669048190117, -0.045662377029657364, -0.08260341733694077, 0.14819476008415222, -0.08842121064662933, 0.06027442589402199, 0.05103018507361412, 0.010303172282874584, 0.14121422171592712, 0.030813805758953094, 0.061033133417367935, -0.05285126343369484, 0.13664892315864563, 0.009189915843307972, -0.01732519455254078, -0.012848632410168648, -0.007995259016752243, -0.050980012863874435, -0.05235058441758156, 0.007593023590743542, -0.015166297554969788, 0.01696031726896763, 0.021270547062158585, 0.020558040589094162, -0.12002810090780258, 0.01446179673075676, 0.026759929955005646, 0.025330713018774986, -0.04275466129183769, 0.006768449675291777, -0.014458579011261463, 0.04526194557547569, -0.09147652983665466, -0.019439082592725754, -0.017833532765507698, -0.054910123348236084, -0.05264108628034592, -0.010459048673510551, -0.05201604217290878, 0.02089199237525463, -0.07997027784585953, -0.01211128756403923, -0.057731445878744125, 0.023178208619356155, -0.008031727746129036, -0.025989286601543427, -0.07995668798685074, -0.020728835836052895, 0.0488177128136158, -0.02038915455341339, -0.04917658120393753, 0.014159676618874073, -0.06362204998731613, -0.007807373534888029, 0.016431551426649094, -0.025682521983981133, 0.013381141237914562, 0.026248741894960403, 0.009978409856557846, 0.06322891265153885, 0.002672187052667141, -0.006582782603800297, 0.016631923615932465, 0.03236640617251396, 0.03794242814183235, -0.03637608513236046, -0.006910961586982012, 0.00015965897182468325, -0.0016335470136255026, -0.027278143912553787, -0.02803812548518181, 0.049681439995765686, -0.02886725217103958, -0.002418083604425192, 0.014774886891245842, 0.0097645940259099, 0.005797603167593479, 0.013486184179782867, 0.005567966494709253, 0.03722710162401199, 0.0072324699722230434, 0.040156275033950806, 0.08150329440832138, 0.0719916969537735, -0.013056163676083088, -0.04288205876946449, -0.01101123820990324, 0.004897788166999817, -0.009229675866663456, 0.03519143536686897, -0.05103500187397003, -1.571437557856825e-08, -0.08862444758415222, 0.023909326642751694, -0.016238754615187645, 0.031700499355793, 0.02728426828980446, 0.052468784153461456, -0.04707099497318268, -0.05884745717048645, -0.06320817023515701, 0.04088853672146797, 0.04982801526784897, 0.10655171424150467, -0.07450231909751892, -0.012495404109358788, 0.01837068609893322, 0.039474062621593475, -0.024797867983579636, 0.014516236260533333, -0.03706920146942139, 0.020015694200992584, -4.860065018874593e-05, 0.00986657477915287, 0.024838773533701897, -0.05245812609791756, 0.029314259067177773, -0.08719190955162048, -0.014499680139124393, 0.026019100099802017, -0.01874633878469467, -0.07620517909526825, 0.035043299198150635, 0.10363949835300446, -0.028050484135746956, 0.012718163430690765, -0.07632549852132797, -0.018652379512786865, 0.02497672103345394, 0.08144532889127731, 0.06875884532928467, -0.06405662000179291, -0.08389385044574738, 0.0613623671233654, -0.03354554623365402, -0.10615334659814835, -0.04008055850863457, 0.032530203461647034, 0.07662484794855118, -0.07301618903875351, 0.00033756825723685324, -0.040871620178222656, -0.07578851282596588, 0.02752765268087387, 0.07462538778781891, 0.01771732047200203, 0.0912184938788414, 0.11022018641233444, 0.0005697841988876462, 0.05146336182951927, -0.014551290310919285, 0.03323199227452278, 0.023792298510670662, -0.022889820858836174, 0.03893749788403511, 0.030206842347979546]\n"
     ]
    }
   ],
   "source": [
    "query_result = embeddings.embed_query(\"Hello World\") \n",
    "\n",
    "print(len(query_result))\n",
    "print(query_result)\n"
   ]
  },
  {
   "cell_type": "code",
   "execution_count": 52,
   "metadata": {},
   "outputs": [],
   "source": [
    "\n",
    "# # pc  = api_key=PINECONE_API_KEY,environment=PINECONE_API_ENV\n",
    "# # import pinecone\n",
    "# # from pinecone import Pinecone\n",
    "# from langchain_pinecone import PineconeVectorStore\n",
    "# pc = Pinecone(api_key = PINECONE_API_KEY)\n",
    "\n",
    "# index_name = \"medical-chatbot\"\n",
    "# # docsearch=Pinecone.from_texts([t.page_content for t in text_chunk] , embeddings , index_name = index_name)\n",
    "# index = pc.Index(index_name)  \n",
    "# for i, t in zip(range(len(text_chunk)), text_chunk):\n",
    "#    query_result = embeddings.embed_query(t.page_content)\n",
    "#    index.upsert(\n",
    "#    vectors=[\n",
    "#         {\n",
    "#             \"id\": str(i),  # Convert i to a string\n",
    "#             \"values\": query_result, \n",
    "#             \"metadata\": {\"text\":str(text_chunk[i].page_content)} # meta data as dic\n",
    "#         }\n",
    "#     ],\n",
    "#     namespace=\"real\" \n",
    "# )\n",
    "\n",
    "# index.describe_index_stats() \n",
    "\n"
   ]
  },
  {
   "cell_type": "code",
   "execution_count": 53,
   "metadata": {},
   "outputs": [
    {
     "name": "stdout",
     "output_type": "stream",
     "text": [
      "Requirement already satisfied: langchain-pinecone in c:\\users\\sharm\\anaconda3\\envs\\mchatbot\\lib\\site-packages (0.0.3)\n",
      "Requirement already satisfied: langchain-core<0.2,>=0.1 in c:\\users\\sharm\\anaconda3\\envs\\mchatbot\\lib\\site-packages (from langchain-pinecone) (0.1.33)\n",
      "Requirement already satisfied: numpy<2,>=1 in c:\\users\\sharm\\anaconda3\\envs\\mchatbot\\lib\\site-packages (from langchain-pinecone) (1.24.4)\n",
      "Requirement already satisfied: pinecone-client<4,>=3 in c:\\users\\sharm\\anaconda3\\envs\\mchatbot\\lib\\site-packages (from langchain-pinecone) (3.2.1)\n",
      "Requirement already satisfied: PyYAML>=5.3 in c:\\users\\sharm\\anaconda3\\envs\\mchatbot\\lib\\site-packages (from langchain-core<0.2,>=0.1->langchain-pinecone) (6.0.1)\n",
      "Requirement already satisfied: anyio<5,>=3 in c:\\users\\sharm\\anaconda3\\envs\\mchatbot\\lib\\site-packages (from langchain-core<0.2,>=0.1->langchain-pinecone) (4.3.0)\n",
      "Requirement already satisfied: jsonpatch<2.0,>=1.33 in c:\\users\\sharm\\anaconda3\\envs\\mchatbot\\lib\\site-packages (from langchain-core<0.2,>=0.1->langchain-pinecone) (1.33)\n",
      "Requirement already satisfied: langsmith<0.2.0,>=0.1.0 in c:\\users\\sharm\\anaconda3\\envs\\mchatbot\\lib\\site-packages (from langchain-core<0.2,>=0.1->langchain-pinecone) (0.1.31)\n",
      "Requirement already satisfied: packaging<24.0,>=23.2 in c:\\users\\sharm\\anaconda3\\envs\\mchatbot\\lib\\site-packages (from langchain-core<0.2,>=0.1->langchain-pinecone) (23.2)\n",
      "Requirement already satisfied: pydantic<3,>=1 in c:\\users\\sharm\\anaconda3\\envs\\mchatbot\\lib\\site-packages (from langchain-core<0.2,>=0.1->langchain-pinecone) (2.6.4)\n",
      "Requirement already satisfied: requests<3,>=2 in c:\\users\\sharm\\anaconda3\\envs\\mchatbot\\lib\\site-packages (from langchain-core<0.2,>=0.1->langchain-pinecone) (2.31.0)\n",
      "Requirement already satisfied: tenacity<9.0.0,>=8.1.0 in c:\\users\\sharm\\anaconda3\\envs\\mchatbot\\lib\\site-packages (from langchain-core<0.2,>=0.1->langchain-pinecone) (8.2.3)\n",
      "Requirement already satisfied: certifi>=2019.11.17 in c:\\users\\sharm\\anaconda3\\envs\\mchatbot\\lib\\site-packages (from pinecone-client<4,>=3->langchain-pinecone) (2024.2.2)\n",
      "Requirement already satisfied: tqdm>=4.64.1 in c:\\users\\sharm\\anaconda3\\envs\\mchatbot\\lib\\site-packages (from pinecone-client<4,>=3->langchain-pinecone) (4.66.2)\n",
      "Requirement already satisfied: typing-extensions>=3.7.4 in c:\\users\\sharm\\anaconda3\\envs\\mchatbot\\lib\\site-packages (from pinecone-client<4,>=3->langchain-pinecone) (4.10.0)\n",
      "Requirement already satisfied: urllib3>=1.26.0 in c:\\users\\sharm\\anaconda3\\envs\\mchatbot\\lib\\site-packages (from pinecone-client<4,>=3->langchain-pinecone) (2.2.1)\n",
      "Requirement already satisfied: idna>=2.8 in c:\\users\\sharm\\anaconda3\\envs\\mchatbot\\lib\\site-packages (from anyio<5,>=3->langchain-core<0.2,>=0.1->langchain-pinecone) (3.6)\n",
      "Requirement already satisfied: sniffio>=1.1 in c:\\users\\sharm\\anaconda3\\envs\\mchatbot\\lib\\site-packages (from anyio<5,>=3->langchain-core<0.2,>=0.1->langchain-pinecone) (1.3.1)\n",
      "Requirement already satisfied: exceptiongroup>=1.0.2 in c:\\users\\sharm\\anaconda3\\envs\\mchatbot\\lib\\site-packages (from anyio<5,>=3->langchain-core<0.2,>=0.1->langchain-pinecone) (1.2.0)\n",
      "Requirement already satisfied: jsonpointer>=1.9 in c:\\users\\sharm\\anaconda3\\envs\\mchatbot\\lib\\site-packages (from jsonpatch<2.0,>=1.33->langchain-core<0.2,>=0.1->langchain-pinecone) (2.4)\n",
      "Requirement already satisfied: orjson<4.0.0,>=3.9.14 in c:\\users\\sharm\\anaconda3\\envs\\mchatbot\\lib\\site-packages (from langsmith<0.2.0,>=0.1.0->langchain-core<0.2,>=0.1->langchain-pinecone) (3.9.15)\n",
      "Requirement already satisfied: annotated-types>=0.4.0 in c:\\users\\sharm\\anaconda3\\envs\\mchatbot\\lib\\site-packages (from pydantic<3,>=1->langchain-core<0.2,>=0.1->langchain-pinecone) (0.6.0)\n",
      "Requirement already satisfied: pydantic-core==2.16.3 in c:\\users\\sharm\\anaconda3\\envs\\mchatbot\\lib\\site-packages (from pydantic<3,>=1->langchain-core<0.2,>=0.1->langchain-pinecone) (2.16.3)\n",
      "Requirement already satisfied: charset-normalizer<4,>=2 in c:\\users\\sharm\\anaconda3\\envs\\mchatbot\\lib\\site-packages (from requests<3,>=2->langchain-core<0.2,>=0.1->langchain-pinecone) (3.3.2)\n",
      "Requirement already satisfied: colorama in c:\\users\\sharm\\anaconda3\\envs\\mchatbot\\lib\\site-packages (from tqdm>=4.64.1->pinecone-client<4,>=3->langchain-pinecone) (0.4.6)\n",
      "Note: you may need to restart the kernel to use updated packages.\n"
     ]
    }
   ],
   "source": [
    "%pip install -U langchain-pinecone"
   ]
  },
  {
   "cell_type": "code",
   "execution_count": 59,
   "metadata": {},
   "outputs": [
    {
     "name": "stdout",
     "output_type": "stream",
     "text": [
      "[Document(page_content='When thisoccurs, an allergy develops against the offending sub-stance (an allergen.)', metadata={'page': 128.0, 'source': 'data\\\\Medical_book.pdf'}), Document(page_content='When thisoccurs, an allergy develops against the offending sub-stance (an allergen.)', metadata={'page': 128.0, 'source': 'data\\\\Medical_book.pdf'}), Document(page_content='When thisoccurs, an allergy develops against the offending sub-stance (an allergen.)', metadata={'page': 128.0, 'source': 'data\\\\Medical_book.pdf'}), Document(page_content='the itchy, scratchy nose, eyes, and throat common inallergic rhinitis .\\nThe particular allergens to which a person is sensi-', metadata={'page': 135.0, 'source': 'data\\\\Medical_book.pdf'})]\n"
     ]
    }
   ],
   "source": [
    "# import PyPDF2\n",
    "# # from pinecone import Pinecone\n",
    "# from langchain_pinecone import PineconeVectorStore\n",
    "# index = PineconeVectorStore.Index(\"medical-chatbot\")\n",
    "# PineconeVectorStore\n",
    "# # docs = pc.similarity_search(query,k=3) \n",
    "# print(\"Result\" , docs) \n",
    "from langchain_pinecone import PineconeVectorStore\n",
    "import os \n",
    "os.environ['PINECONE_API_KEY'] = \"7eeff629-f281-4e06-a11b-eae034db2e00\"\n",
    "api_key = os.environ[\"PINECONE_API_KEY\"]\n",
    "index_name = \"medical-chatbot\"\n",
    "\n",
    "docsearch = PineconeVectorStore.from_documents(\n",
    "    text_chunk,\n",
    "    embeddings,\n",
    "    index_name = index_name\n",
    ")\n",
    "query = \"What is allergy?\"\n",
    "\n",
    "docs = docsearch.similarity_search(query)\n",
    "print(docs)\n",
    "\n",
    "\n",
    "\n"
   ]
  },
  {
   "cell_type": "code",
   "execution_count": null,
   "metadata": {},
   "outputs": [],
   "source": []
  }
 ],
 "metadata": {
  "kernelspec": {
   "display_name": "mchatbot",
   "language": "python",
   "name": "python3"
  },
  "language_info": {
   "codemirror_mode": {
    "name": "ipython",
    "version": 3
   },
   "file_extension": ".py",
   "mimetype": "text/x-python",
   "name": "python",
   "nbconvert_exporter": "python",
   "pygments_lexer": "ipython3",
   "version": "3.8.19"
  }
 },
 "nbformat": 4,
 "nbformat_minor": 2
}
